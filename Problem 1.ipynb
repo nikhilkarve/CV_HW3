{
 "cells": [
  {
   "cell_type": "markdown",
   "id": "6f0ed098",
   "metadata": {},
   "source": [
    "# SSD vs. Normalized Correlation \n",
    "\n",
    "In this assignment we compare SSD vs. Normalized Correlation\n",
    "\n",
    "$$SSD(u,v) = \\sum_{i}(u_{i} - v_{i})^{2}$$\n",
    "\n",
    "$$\\rho(u,v) = \\frac{\\sum_{i}(u_{i} - \\bar{u})(v_{i} - \\bar{v})}{\\sqrt{(\\sum_{j}(u_{j} - \\bar{u})^2(\\sum_{j}(v_{j} - \\bar{v})^2}}$$\n",
    "\n",
    "### Comparison:\n",
    "\n",
    "- SSD is unnormalized so we cannot compare it over different instances and is highly subjective to overall brightness and pixel value intensity changes in images\n",
    "- Normalized correlation is a better metric as it is normalized over the pair of images it is computed and is between 0 to 1 so it is a better metric to use."
   ]
  },
  {
   "cell_type": "code",
   "execution_count": 37,
   "id": "be2528d8",
   "metadata": {},
   "outputs": [],
   "source": [
    "import cv2\n",
    "import numpy as np"
   ]
  },
  {
   "cell_type": "markdown",
   "id": "52a70009",
   "metadata": {},
   "source": [
    "## Loading all the frames into memory"
   ]
  },
  {
   "cell_type": "code",
   "execution_count": 38,
   "id": "08e02833",
   "metadata": {},
   "outputs": [],
   "source": [
    "frame0 = cv2.imread('Frame0.jpg')\n",
    "frame0 = cv2.cvtColor(frame0, cv2.COLOR_BGR2GRAY)\n",
    "frame1 = cv2.imread('Frame1.jpg')\n",
    "frame1 = cv2.cvtColor(frame1, cv2.COLOR_BGR2GRAY)\n",
    "frame2 = cv2.imread('Frame2.jpg')\n",
    "frame2 = cv2.cvtColor(frame2, cv2.COLOR_BGR2GRAY)\n",
    "frame3 = cv2.imread('Frame3.jpg')\n",
    "frame3 = cv2.cvtColor(frame3, cv2.COLOR_BGR2GRAY)\n",
    "frame4 = cv2.imread('Frame4.jpg')\n",
    "frame4 = cv2.cvtColor(frame4, cv2.COLOR_BGR2GRAY)\n",
    "frame5 = cv2.imread('Frame5.jpg')\n",
    "frame5 = cv2.cvtColor(frame5, cv2.COLOR_BGR2GRAY)\n",
    "frame6 = cv2.imread('Frame6.jpg')\n",
    "frame6 = cv2.cvtColor(frame6, cv2.COLOR_BGR2GRAY)\n",
    "frame7 = cv2.imread('Frame7.jpg')\n",
    "frame7 = cv2.cvtColor(frame7, cv2.COLOR_BGR2GRAY)\n",
    "frame8 = cv2.imread('Frame8.jpg')\n",
    "frame8 = cv2.cvtColor(frame8, cv2.COLOR_BGR2GRAY)\n",
    "frame9 = cv2.imread('Frame9.jpg')\n",
    "frame9 = cv2.cvtColor(frame9, cv2.COLOR_BGR2GRAY)"
   ]
  },
  {
   "cell_type": "markdown",
   "id": "0be7964c",
   "metadata": {},
   "source": [
    "### Here we are resizing all the patches to the same size to compare"
   ]
  },
  {
   "cell_type": "code",
   "execution_count": 39,
   "id": "5720c769",
   "metadata": {},
   "outputs": [],
   "source": [
    "frame1 = cv2.resize(frame1, (87, 87))"
   ]
  },
  {
   "cell_type": "code",
   "execution_count": 40,
   "id": "504912f4",
   "metadata": {},
   "outputs": [],
   "source": [
    "frame2 = cv2.resize(frame2, (87, 87))"
   ]
  },
  {
   "cell_type": "code",
   "execution_count": 41,
   "id": "111d4df7",
   "metadata": {},
   "outputs": [],
   "source": [
    "frame3 = cv2.resize(frame3, (87, 87))"
   ]
  },
  {
   "cell_type": "code",
   "execution_count": 42,
   "id": "0d416442",
   "metadata": {},
   "outputs": [],
   "source": [
    "frame4 = cv2.resize(frame4, (87, 87))"
   ]
  },
  {
   "cell_type": "code",
   "execution_count": 43,
   "id": "0a799294",
   "metadata": {},
   "outputs": [],
   "source": [
    "frame5 = cv2.resize(frame5, (87, 87))"
   ]
  },
  {
   "cell_type": "code",
   "execution_count": 44,
   "id": "bf8e2563",
   "metadata": {},
   "outputs": [],
   "source": [
    "frame6 = cv2.resize(frame6, (87, 87))"
   ]
  },
  {
   "cell_type": "code",
   "execution_count": 45,
   "id": "b726ec04",
   "metadata": {},
   "outputs": [],
   "source": [
    "frame7 = cv2.resize(frame7, (87, 87))"
   ]
  },
  {
   "cell_type": "code",
   "execution_count": 46,
   "id": "ba66d2ca",
   "metadata": {},
   "outputs": [],
   "source": [
    "frame8 = cv2.resize(frame8, (87, 87))"
   ]
  },
  {
   "cell_type": "code",
   "execution_count": 47,
   "id": "27ba032c",
   "metadata": {},
   "outputs": [],
   "source": [
    "frame9 = cv2.resize(frame9, (87, 87))"
   ]
  },
  {
   "cell_type": "markdown",
   "id": "c7b39e22",
   "metadata": {},
   "source": [
    "### We intialize an empty array for storing all the SSD values and then we choose frame 1 as reference frame to compute SSD values for other patches"
   ]
  },
  {
   "cell_type": "code",
   "execution_count": 48,
   "id": "5b55e314",
   "metadata": {},
   "outputs": [],
   "source": [
    "ssd0 = []"
   ]
  },
  {
   "cell_type": "code",
   "execution_count": 55,
   "id": "9c8157cf",
   "metadata": {},
   "outputs": [],
   "source": [
    "ssd01 = np.sum((np.square(frame0 - frame1)))"
   ]
  },
  {
   "cell_type": "code",
   "execution_count": 56,
   "id": "5b840c33",
   "metadata": {},
   "outputs": [
    {
     "data": {
      "text/plain": [
       "268729"
      ]
     },
     "execution_count": 56,
     "metadata": {},
     "output_type": "execute_result"
    }
   ],
   "source": [
    "ssd01"
   ]
  },
  {
   "cell_type": "code",
   "execution_count": 57,
   "id": "502d6b30",
   "metadata": {},
   "outputs": [],
   "source": [
    "ssd0.append(ssd01)"
   ]
  },
  {
   "cell_type": "code",
   "execution_count": 58,
   "id": "93438fdc",
   "metadata": {},
   "outputs": [],
   "source": [
    "ssd02 = np.sum((np.square(frame0 - frame2)))"
   ]
  },
  {
   "cell_type": "code",
   "execution_count": 59,
   "id": "83ad6c0c",
   "metadata": {},
   "outputs": [
    {
     "data": {
      "text/plain": [
       "289535"
      ]
     },
     "execution_count": 59,
     "metadata": {},
     "output_type": "execute_result"
    }
   ],
   "source": [
    "ssd02"
   ]
  },
  {
   "cell_type": "code",
   "execution_count": 60,
   "id": "1c301c42",
   "metadata": {},
   "outputs": [],
   "source": [
    "ssd0.append(ssd02)"
   ]
  },
  {
   "cell_type": "code",
   "execution_count": 58,
   "id": "2523e9d6",
   "metadata": {},
   "outputs": [],
   "source": [
    "ssd03 = np.sum((np.square(frame0 - frame3)))"
   ]
  },
  {
   "cell_type": "code",
   "execution_count": 59,
   "id": "bda475e5",
   "metadata": {},
   "outputs": [
    {
     "data": {
      "text/plain": [
       "289535"
      ]
     },
     "execution_count": 59,
     "metadata": {},
     "output_type": "execute_result"
    }
   ],
   "source": [
    "ssd03"
   ]
  },
  {
   "cell_type": "code",
   "execution_count": 60,
   "id": "acadb41e",
   "metadata": {},
   "outputs": [],
   "source": [
    "ssd0.append(ssd03)"
   ]
  },
  {
   "cell_type": "code",
   "execution_count": 61,
   "id": "d3d08db0",
   "metadata": {},
   "outputs": [],
   "source": [
    "ssd04 = np.sum((np.square(frame0 - frame4)))"
   ]
  },
  {
   "cell_type": "code",
   "execution_count": 62,
   "id": "8dae26a5",
   "metadata": {},
   "outputs": [
    {
     "data": {
      "text/plain": [
       "0"
      ]
     },
     "execution_count": 62,
     "metadata": {},
     "output_type": "execute_result"
    }
   ],
   "source": [
    "ssd04"
   ]
  },
  {
   "cell_type": "code",
   "execution_count": 63,
   "id": "9a3edc0d",
   "metadata": {},
   "outputs": [],
   "source": [
    "ssd0.append(ssd04)"
   ]
  },
  {
   "cell_type": "code",
   "execution_count": 64,
   "id": "d9264959",
   "metadata": {},
   "outputs": [],
   "source": [
    "ssd05 = np.sum((np.square(frame0 - frame5)))"
   ]
  },
  {
   "cell_type": "code",
   "execution_count": 65,
   "id": "fe52f946",
   "metadata": {},
   "outputs": [
    {
     "data": {
      "text/plain": [
       "289535"
      ]
     },
     "execution_count": 65,
     "metadata": {},
     "output_type": "execute_result"
    }
   ],
   "source": [
    "ssd05"
   ]
  },
  {
   "cell_type": "code",
   "execution_count": 66,
   "id": "83587d06",
   "metadata": {},
   "outputs": [],
   "source": [
    "ssd0.append(ssd05)"
   ]
  },
  {
   "cell_type": "code",
   "execution_count": 67,
   "id": "f8cd88f2",
   "metadata": {},
   "outputs": [],
   "source": [
    "ssd06 = np.sum((np.square(frame0 - frame6)))"
   ]
  },
  {
   "cell_type": "code",
   "execution_count": 68,
   "id": "ffd2a793",
   "metadata": {},
   "outputs": [
    {
     "data": {
      "text/plain": [
       "342190"
      ]
     },
     "execution_count": 68,
     "metadata": {},
     "output_type": "execute_result"
    }
   ],
   "source": [
    "ssd06"
   ]
  },
  {
   "cell_type": "code",
   "execution_count": 69,
   "id": "70f4199d",
   "metadata": {},
   "outputs": [],
   "source": [
    "ssd0.append(ssd06)"
   ]
  },
  {
   "cell_type": "code",
   "execution_count": 70,
   "id": "5f631e81",
   "metadata": {},
   "outputs": [],
   "source": [
    "ssd07 = np.sum((np.square(frame0 - frame7)))"
   ]
  },
  {
   "cell_type": "code",
   "execution_count": 71,
   "id": "904ac7c6",
   "metadata": {},
   "outputs": [
    {
     "data": {
      "text/plain": [
       "268729"
      ]
     },
     "execution_count": 71,
     "metadata": {},
     "output_type": "execute_result"
    }
   ],
   "source": [
    "ssd07"
   ]
  },
  {
   "cell_type": "code",
   "execution_count": 72,
   "id": "b6187dfd",
   "metadata": {},
   "outputs": [],
   "source": [
    "ssd0.append(ssd07)"
   ]
  },
  {
   "cell_type": "code",
   "execution_count": 73,
   "id": "228d61a7",
   "metadata": {},
   "outputs": [],
   "source": [
    "ssd08 = np.sum((np.square(frame0 - frame8)))"
   ]
  },
  {
   "cell_type": "code",
   "execution_count": 74,
   "id": "3f451d76",
   "metadata": {},
   "outputs": [
    {
     "data": {
      "text/plain": [
       "289535"
      ]
     },
     "execution_count": 74,
     "metadata": {},
     "output_type": "execute_result"
    }
   ],
   "source": [
    "ssd08"
   ]
  },
  {
   "cell_type": "code",
   "execution_count": 75,
   "id": "e0d0a0fd",
   "metadata": {},
   "outputs": [],
   "source": [
    "ssd0.append(ssd08)"
   ]
  },
  {
   "cell_type": "code",
   "execution_count": 76,
   "id": "26fad5d3",
   "metadata": {},
   "outputs": [],
   "source": [
    "ssd09 = np.sum((np.square(frame0 - frame9)))"
   ]
  },
  {
   "cell_type": "code",
   "execution_count": 77,
   "id": "bed5448b",
   "metadata": {},
   "outputs": [
    {
     "data": {
      "text/plain": [
       "268729"
      ]
     },
     "execution_count": 77,
     "metadata": {},
     "output_type": "execute_result"
    }
   ],
   "source": [
    "ssd09"
   ]
  },
  {
   "cell_type": "code",
   "execution_count": 78,
   "id": "8694561b",
   "metadata": {},
   "outputs": [],
   "source": [
    "ssd0.append(ssd09)"
   ]
  },
  {
   "cell_type": "markdown",
   "id": "bacccb2d",
   "metadata": {},
   "source": [
    "### We display the SSD values notice that they are not at all standardised and will not make sense as a comparison value"
   ]
  },
  {
   "cell_type": "code",
   "execution_count": 79,
   "id": "433fecdf",
   "metadata": {},
   "outputs": [
    {
     "data": {
      "text/plain": [
       "[268729, 289535, 0, 289535, 342190, 268729, 289535, 268729]"
      ]
     },
     "execution_count": 79,
     "metadata": {},
     "output_type": "execute_result"
    }
   ],
   "source": [
    "ssd0"
   ]
  },
  {
   "cell_type": "markdown",
   "id": "b1314ab6",
   "metadata": {},
   "source": [
    "## Normalized Correlation\n",
    "\n",
    "we do the same computation for normalized correlation"
   ]
  },
  {
   "cell_type": "code",
   "execution_count": 211,
   "id": "55c7e810",
   "metadata": {},
   "outputs": [],
   "source": [
    "corr0 = []"
   ]
  },
  {
   "cell_type": "markdown",
   "id": "7f0a0a48",
   "metadata": {},
   "source": [
    "## Here we define the pearson correlation for 2D images as a function"
   ]
  },
  {
   "cell_type": "code",
   "execution_count": 212,
   "id": "72374c7c",
   "metadata": {},
   "outputs": [],
   "source": [
    "def correlation_coefficient(patch1, patch2):\n",
    "    product = np.mean((patch1 - patch1.mean()) * (patch2 - patch2.mean()))\n",
    "    stds = patch1.std() * patch2.std()\n",
    "    if stds == 0:\n",
    "        return 0\n",
    "    else:\n",
    "        product /= stds\n",
    "        return product"
   ]
  },
  {
   "cell_type": "code",
   "execution_count": 213,
   "id": "203311c0",
   "metadata": {},
   "outputs": [],
   "source": [
    "corr01 = correlation_coefficient(frame0, frame1)"
   ]
  },
  {
   "cell_type": "code",
   "execution_count": 214,
   "id": "2b9868c8",
   "metadata": {},
   "outputs": [
    {
     "data": {
      "text/plain": [
       "0.8527063730330653"
      ]
     },
     "execution_count": 214,
     "metadata": {},
     "output_type": "execute_result"
    }
   ],
   "source": [
    "corr01"
   ]
  },
  {
   "cell_type": "code",
   "execution_count": 215,
   "id": "b0b95d92",
   "metadata": {},
   "outputs": [],
   "source": [
    "corr0.append(corr01)"
   ]
  },
  {
   "cell_type": "code",
   "execution_count": 216,
   "id": "b81e3ca2",
   "metadata": {},
   "outputs": [],
   "source": [
    "corr02 = correlation_coefficient(frame0, frame2)"
   ]
  },
  {
   "cell_type": "code",
   "execution_count": 217,
   "id": "e28e219c",
   "metadata": {},
   "outputs": [
    {
     "data": {
      "text/plain": [
       "0.8067079834150218"
      ]
     },
     "execution_count": 217,
     "metadata": {},
     "output_type": "execute_result"
    }
   ],
   "source": [
    "corr02"
   ]
  },
  {
   "cell_type": "code",
   "execution_count": 218,
   "id": "fc43ca6e",
   "metadata": {},
   "outputs": [],
   "source": [
    "corr0.append(corr02)"
   ]
  },
  {
   "cell_type": "code",
   "execution_count": 219,
   "id": "245f6f7f",
   "metadata": {},
   "outputs": [],
   "source": [
    "corr03 = correlation_coefficient(frame0, frame3)"
   ]
  },
  {
   "cell_type": "code",
   "execution_count": 220,
   "id": "710dcb2a",
   "metadata": {},
   "outputs": [
    {
     "data": {
      "text/plain": [
       "0.693727326454954"
      ]
     },
     "execution_count": 220,
     "metadata": {},
     "output_type": "execute_result"
    }
   ],
   "source": [
    "corr03"
   ]
  },
  {
   "cell_type": "code",
   "execution_count": 221,
   "id": "9d3973f6",
   "metadata": {},
   "outputs": [],
   "source": [
    "corr0.append(corr03)"
   ]
  },
  {
   "cell_type": "code",
   "execution_count": 222,
   "id": "031de54b",
   "metadata": {},
   "outputs": [],
   "source": [
    "corr04 = correlation_coefficient(frame0, frame4)"
   ]
  },
  {
   "cell_type": "code",
   "execution_count": 223,
   "id": "5a95a100",
   "metadata": {},
   "outputs": [
    {
     "data": {
      "text/plain": [
       "1.0"
      ]
     },
     "execution_count": 223,
     "metadata": {},
     "output_type": "execute_result"
    }
   ],
   "source": [
    "corr04"
   ]
  },
  {
   "cell_type": "code",
   "execution_count": 224,
   "id": "f377f300",
   "metadata": {},
   "outputs": [],
   "source": [
    "corr0.append(corr04)"
   ]
  },
  {
   "cell_type": "code",
   "execution_count": 225,
   "id": "41ebe147",
   "metadata": {},
   "outputs": [],
   "source": [
    "corr05 = correlation_coefficient(frame0, frame5)"
   ]
  },
  {
   "cell_type": "code",
   "execution_count": 226,
   "id": "b409af6c",
   "metadata": {},
   "outputs": [
    {
     "data": {
      "text/plain": [
       "0.8067079834150218"
      ]
     },
     "execution_count": 226,
     "metadata": {},
     "output_type": "execute_result"
    }
   ],
   "source": [
    "corr05"
   ]
  },
  {
   "cell_type": "code",
   "execution_count": 227,
   "id": "d937de5c",
   "metadata": {},
   "outputs": [],
   "source": [
    "corr0.append(corr05)"
   ]
  },
  {
   "cell_type": "code",
   "execution_count": 228,
   "id": "f14865b1",
   "metadata": {},
   "outputs": [],
   "source": [
    "corr06 = correlation_coefficient(frame0, frame6)"
   ]
  },
  {
   "cell_type": "code",
   "execution_count": 229,
   "id": "384c037c",
   "metadata": {},
   "outputs": [
    {
     "data": {
      "text/plain": [
       "0.693727326454954"
      ]
     },
     "execution_count": 229,
     "metadata": {},
     "output_type": "execute_result"
    }
   ],
   "source": [
    "corr06"
   ]
  },
  {
   "cell_type": "code",
   "execution_count": 230,
   "id": "6f93a131",
   "metadata": {},
   "outputs": [],
   "source": [
    "corr0.append(corr06)"
   ]
  },
  {
   "cell_type": "code",
   "execution_count": 231,
   "id": "6554a433",
   "metadata": {},
   "outputs": [],
   "source": [
    "corr07 = correlation_coefficient(frame0, frame7)"
   ]
  },
  {
   "cell_type": "code",
   "execution_count": 232,
   "id": "23b70c05",
   "metadata": {},
   "outputs": [
    {
     "data": {
      "text/plain": [
       "0.8527063730330653"
      ]
     },
     "execution_count": 232,
     "metadata": {},
     "output_type": "execute_result"
    }
   ],
   "source": [
    "corr07"
   ]
  },
  {
   "cell_type": "code",
   "execution_count": 233,
   "id": "504a7923",
   "metadata": {},
   "outputs": [],
   "source": [
    "corr0.append(corr07)"
   ]
  },
  {
   "cell_type": "code",
   "execution_count": 234,
   "id": "cbd81f59",
   "metadata": {},
   "outputs": [],
   "source": [
    "corr08 = correlation_coefficient(frame0, frame8)"
   ]
  },
  {
   "cell_type": "code",
   "execution_count": 235,
   "id": "2b11dc8c",
   "metadata": {},
   "outputs": [
    {
     "data": {
      "text/plain": [
       "0.8067079834150218"
      ]
     },
     "execution_count": 235,
     "metadata": {},
     "output_type": "execute_result"
    }
   ],
   "source": [
    "corr08"
   ]
  },
  {
   "cell_type": "code",
   "execution_count": 236,
   "id": "3207b2bc",
   "metadata": {},
   "outputs": [],
   "source": [
    "corr0.append(corr08)"
   ]
  },
  {
   "cell_type": "code",
   "execution_count": 237,
   "id": "6b4e809a",
   "metadata": {},
   "outputs": [],
   "source": [
    "corr09 = correlation_coefficient(frame0, frame9)"
   ]
  },
  {
   "cell_type": "code",
   "execution_count": 238,
   "id": "04ab902e",
   "metadata": {},
   "outputs": [
    {
     "data": {
      "text/plain": [
       "0.8527063730330653"
      ]
     },
     "execution_count": 238,
     "metadata": {},
     "output_type": "execute_result"
    }
   ],
   "source": [
    "corr09"
   ]
  },
  {
   "cell_type": "code",
   "execution_count": 239,
   "id": "6d79efd7",
   "metadata": {},
   "outputs": [],
   "source": [
    "corr0.append(corr09)"
   ]
  },
  {
   "cell_type": "markdown",
   "id": "0cba627a",
   "metadata": {},
   "source": [
    "## The correlation metric is better as it is standardised and can be universally compared and used in different datasets easily and make much more sense"
   ]
  },
  {
   "cell_type": "code",
   "execution_count": 240,
   "id": "a4c7bc9f",
   "metadata": {},
   "outputs": [
    {
     "data": {
      "text/plain": [
       "[0.8527063730330653,\n",
       " 0.8067079834150218,\n",
       " 0.693727326454954,\n",
       " 1.0,\n",
       " 0.8067079834150218,\n",
       " 0.693727326454954,\n",
       " 0.8527063730330653,\n",
       " 0.8067079834150218,\n",
       " 0.8527063730330653]"
      ]
     },
     "execution_count": 240,
     "metadata": {},
     "output_type": "execute_result"
    }
   ],
   "source": [
    "corr0"
   ]
  }
 ],
 "metadata": {
  "kernelspec": {
   "display_name": "Python 3",
   "language": "python",
   "name": "python3"
  },
  "language_info": {
   "codemirror_mode": {
    "name": "ipython",
    "version": 3
   },
   "file_extension": ".py",
   "mimetype": "text/x-python",
   "name": "python",
   "nbconvert_exporter": "python",
   "pygments_lexer": "ipython3",
   "version": "3.8.8"
  }
 },
 "nbformat": 4,
 "nbformat_minor": 5
}
